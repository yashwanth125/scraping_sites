{
  "cells": [
    {
      "cell_type": "markdown",
      "metadata": {
        "colab_type": "text",
        "id": "ArYbfvuSrXMS"
      },
      "source": [
        "Spark SQL is a Spark module placed above Spark Core. It is available since Spark 1.3(2015).\n",
        "\n",
        "● It is used to perform processing on structured data called dataframes.\n",
        "\n",
        "● As such, it performs operations with a level of abstraction and simplicity more advanced\n",
        "\n",
        "than on RDDs, including:\n",
        "\n",
        "○ the exploitation of data on these dataframe objects.\n",
        "\n",
        "○ The use and execution of SQL queries.\n",
        "\n",
        "○ More advanced optimizations.\n",
        "\n",
        "● This is the most used part of Spark nowadays.\n"
      ]
    },
    {
      "cell_type": "markdown",
      "metadata": {
        "colab_type": "text",
        "id": "1_s6yDSRpGtD"
      },
      "source": [
        "## Step 1: Installing Py Spark\n",
        "\n",
        "* pip install pyspark"
      ]
    },
    {
      "cell_type": "code",
      "execution_count": 1,
      "metadata": {
        "colab": {
          "base_uri": "https://localhost:8080/",
          "height": 52
        },
        "colab_type": "code",
        "id": "GIC6WQ0zpCYA",
        "outputId": "2e880fde-ad53-49ad-ce7c-3cd05436973a"
      },
      "outputs": [
        {
          "name": "stdout",
          "output_type": "stream",
          "text": [
            "Requirement already satisfied: pyspark in /usr/local/lib/python3.6/dist-packages (2.4.5)\n",
            "Requirement already satisfied: py4j==0.10.7 in /usr/local/lib/python3.6/dist-packages (from pyspark) (0.10.7)\n"
          ]
        }
      ],
      "source": [
        "! pip install pyspark"
      ]
    },
    {
      "cell_type": "code",
      "execution_count": null,
      "metadata": {
        "colab": {},
        "colab_type": "code",
        "id": "zgUObjMloFT2"
      },
      "outputs": [],
      "source": [
        "try:\n",
        "  import pandas as pd\n",
        "  from pyspark.sql import SparkSession\n",
        "except Exception as e:\n",
        "  print(e)"
      ]
    },
    {
      "cell_type": "code",
      "execution_count": null,
      "metadata": {
        "colab": {},
        "colab_type": "code",
        "id": "2CXv4VmRo7vm"
      },
      "outputs": [],
      "source": [
        "spark = SparkSession.builder\\\n",
        ".appName(\"MyProcess\")\\\n",
        ".master(\"local[*]\")\\\n",
        ".getOrCreate()"
      ]
    },
    {
      "cell_type": "code",
      "execution_count": 4,
      "metadata": {
        "colab": {
          "base_uri": "https://localhost:8080/",
          "height": 219
        },
        "colab_type": "code",
        "id": "eJSD4Qs8qKuG",
        "outputId": "c4e906f2-dff3-439b-e500-338052e11030"
      },
      "outputs": [
        {
          "data": {
            "text/html": [
              "\n",
              "            <div>\n",
              "                <p><b>SparkSession - in-memory</b></p>\n",
              "                \n",
              "        <div>\n",
              "            <p><b>SparkContext</b></p>\n",
              "\n",
              "            <p><a href=\"http://64c7d0f14e70:4040\">Spark UI</a></p>\n",
              "\n",
              "            <dl>\n",
              "              <dt>Version</dt>\n",
              "                <dd><code>v2.4.5</code></dd>\n",
              "              <dt>Master</dt>\n",
              "                <dd><code>local[*]</code></dd>\n",
              "              <dt>AppName</dt>\n",
              "                <dd><code>MyProcess</code></dd>\n",
              "            </dl>\n",
              "        </div>\n",
              "        \n",
              "            </div>\n",
              "        "
            ],
            "text/plain": [
              "<pyspark.sql.session.SparkSession at 0x7f40efcbd710>"
            ]
          },
          "execution_count": 4,
          "metadata": {
            "tags": []
          },
          "output_type": "execute_result"
        }
      ],
      "source": [
        "spark"
      ]
    },
    {
      "cell_type": "code",
      "execution_count": null,
      "metadata": {
        "colab": {},
        "colab_type": "code",
        "id": "Hpk7v80cqOLE"
      },
      "outputs": [],
      "source": []
    },
    {
      "cell_type": "markdown",
      "metadata": {
        "colab_type": "text",
        "id": "r6J7SYqBqdFa"
      },
      "source": [
        "# Step 2: Understanding DataFrames in PySparks\n",
        "There are four ways to create dataframes with Spark SQL:\n",
        "● Programmatically: From a list of values, a list of tuples or from a dictionary.\n",
        "\n",
        "● From a Pandas dataframe: (only valid with the Python API).\n",
        "\n",
        "● From a Spark RDD: by defining the structure of the data.\n",
        "\n",
        "● From data sources: Spark SQL supports reading external files through different methods.\n",
        "\n",
        "* JSON file (spark.read.json(\"...\") method - every line should be a full JSON document)\n",
        "*  Parquet file (spark.read.parquet(\"...\") method)\n",
        "* Other kind of files/data sources by using the method\n",
        "spark.read.format(\"...\")...load(\"...\")\n"
      ]
    },
    {
      "cell_type": "code",
      "execution_count": 5,
      "metadata": {
        "colab": {
          "base_uri": "https://localhost:8080/",
          "height": 208
        },
        "colab_type": "code",
        "id": "WmnvVkjzql5o",
        "outputId": "6b36636d-d824-47c0-a420-2ac2543a044e"
      },
      "outputs": [
        {
          "name": "stdout",
          "output_type": "stream",
          "text": [
            "+---------+--------+-----+\n",
            "|     city|    type|price|\n",
            "+---------+--------+-----+\n",
            "|    Paris|    Food| 19.0|\n",
            "|Marseille|Clothing| 12.0|\n",
            "|    Paris|    Food|  8.0|\n",
            "|    Paris|Clothing| 15.0|\n",
            "|Marseille|    Food| 20.0|\n",
            "|     Lyon|    Book| 10.0|\n",
            "+---------+--------+-----+\n",
            "\n"
          ]
        }
      ],
      "source": [
        "header = [\"city\", \"type\", \"price\"]\n",
        "\n",
        "data = map(lambda r: (r[0], r[1], float(r[2])),\n",
        "map(lambda x: x.split(\",\"),\n",
        "[\"Paris,Food,19.00\", \"Marseille,Clothing,12.00\",\n",
        "\"Paris,Food,8.00\", \"Paris,Clothing,15.00\",\n",
        "\"Marseille,Food,20.00\", \"Lyon,Book,10.00\"]))\n",
        "\n",
        "df = spark.createDataFrame(data, header)\n",
        "df.show()"
      ]
    },
    {
      "cell_type": "code",
      "execution_count": 6,
      "metadata": {
        "colab": {
          "base_uri": "https://localhost:8080/",
          "height": 52
        },
        "colab_type": "code",
        "id": "exlrj4e5q4Ph",
        "outputId": "9f7ac601-bf89-49bb-e3f6-ebc1b0a7e5dc"
      },
      "outputs": [
        {
          "data": {
            "text/plain": [
              "[Row(city='Paris', type='Food', price=19.0),\n",
              " Row(city='Marseille', type='Clothing', price=12.0)]"
            ]
          },
          "execution_count": 6,
          "metadata": {
            "tags": []
          },
          "output_type": "execute_result"
        }
      ],
      "source": [
        "df.take(2)"
      ]
    },
    {
      "cell_type": "code",
      "execution_count": 7,
      "metadata": {
        "colab": {
          "base_uri": "https://localhost:8080/",
          "height": 104
        },
        "colab_type": "code",
        "id": "P3YBG3MPz5uQ",
        "outputId": "fd780a5c-1dca-4282-b60e-d8988ec8e3f9"
      },
      "outputs": [
        {
          "name": "stdout",
          "output_type": "stream",
          "text": [
            "root\n",
            " |-- city: string (nullable = true)\n",
            " |-- type: string (nullable = true)\n",
            " |-- price: double (nullable = true)\n",
            "\n"
          ]
        }
      ],
      "source": [
        "df.printSchema()"
      ]
    },
    {
      "cell_type": "code",
      "execution_count": 8,
      "metadata": {
        "colab": {
          "base_uri": "https://localhost:8080/",
          "height": 35
        },
        "colab_type": "code",
        "id": "zGPkmiHX0DfK",
        "outputId": "c761616e-0cd3-4595-bbb8-d1ff04d43c73"
      },
      "outputs": [
        {
          "data": {
            "text/plain": [
              "DataFrame[city: string, type: string, price: double]"
            ]
          },
          "execution_count": 8,
          "metadata": {
            "tags": []
          },
          "output_type": "execute_result"
        }
      ],
      "source": [
        "df"
      ]
    },
    {
      "cell_type": "code",
      "execution_count": 9,
      "metadata": {
        "colab": {
          "base_uri": "https://localhost:8080/",
          "height": 35
        },
        "colab_type": "code",
        "id": "yglnDT900BwN",
        "outputId": "d80740f6-9d2c-4aef-af03-eff73a281777"
      },
      "outputs": [
        {
          "data": {
            "text/plain": [
              "[('city', 'string'), ('type', 'string'), ('price', 'double')]"
            ]
          },
          "execution_count": 9,
          "metadata": {
            "tags": []
          },
          "output_type": "execute_result"
        }
      ],
      "source": [
        "df.dtypes"
      ]
    },
    {
      "cell_type": "code",
      "execution_count": 10,
      "metadata": {
        "colab": {
          "base_uri": "https://localhost:8080/",
          "height": 52
        },
        "colab_type": "code",
        "id": "nt5ZDAAD0jCi",
        "outputId": "67bc070f-f727-4af1-ca84-de44e0a1f962"
      },
      "outputs": [
        {
          "name": "stdout",
          "output_type": "stream",
          "text": [
            "== Physical Plan ==\n",
            "Scan ExistingRDD[city#0,type#1,price#2]\n"
          ]
        }
      ],
      "source": [
        "df.explain() "
      ]
    },
    {
      "cell_type": "code",
      "execution_count": 11,
      "metadata": {
        "colab": {
          "base_uri": "https://localhost:8080/",
          "height": 208
        },
        "colab_type": "code",
        "id": "g69Dv1Rn1QUp",
        "outputId": "3746a6b3-5815-4e4a-cab5-11c4f7c57c08"
      },
      "outputs": [
        {
          "name": "stdout",
          "output_type": "stream",
          "text": [
            "+---------+\n",
            "|     city|\n",
            "+---------+\n",
            "|    Paris|\n",
            "|Marseille|\n",
            "|    Paris|\n",
            "|    Paris|\n",
            "|Marseille|\n",
            "|     Lyon|\n",
            "+---------+\n",
            "\n"
          ]
        }
      ],
      "source": [
        "df.select(\"city\").show()"
      ]
    },
    {
      "cell_type": "code",
      "execution_count": 12,
      "metadata": {
        "colab": {
          "base_uri": "https://localhost:8080/",
          "height": 208
        },
        "colab_type": "code",
        "id": "mE_HBmJL1ozz",
        "outputId": "2d99b78e-518f-454f-8228-ea10fcdec4d1"
      },
      "outputs": [
        {
          "name": "stdout",
          "output_type": "stream",
          "text": [
            "+---------+--------+\n",
            "|     city|    type|\n",
            "+---------+--------+\n",
            "|    Paris|    Food|\n",
            "|Marseille|Clothing|\n",
            "|    Paris|    Food|\n",
            "|    Paris|Clothing|\n",
            "|Marseille|    Food|\n",
            "|     Lyon|    Book|\n",
            "+---------+--------+\n",
            "\n"
          ]
        }
      ],
      "source": [
        "df.select([\"city\", \"type\"]).show()"
      ]
    },
    {
      "cell_type": "code",
      "execution_count": 13,
      "metadata": {
        "colab": {
          "base_uri": "https://localhost:8080/",
          "height": 69
        },
        "colab_type": "code",
        "id": "RhC72oSo1x2t",
        "outputId": "5cdf4b38-ab16-4080-fbd7-3494a37d8f45"
      },
      "outputs": [
        {
          "data": {
            "text/plain": [
              "[Row(city='Paris', price=19.0),\n",
              " Row(city='Marseille', price=12.0),\n",
              " Row(city='Paris', price=8.0)]"
            ]
          },
          "execution_count": 13,
          "metadata": {
            "tags": []
          },
          "output_type": "execute_result"
        }
      ],
      "source": [
        "df.select([\"city\", \"price\"]).take(3)"
      ]
    },
    {
      "cell_type": "markdown",
      "metadata": {
        "colab_type": "text",
        "id": "Kvmjmn1A2znR"
      },
      "source": [
        "# Step 3: basic Manipulation :Schema\n"
      ]
    },
    {
      "cell_type": "code",
      "execution_count": null,
      "metadata": {
        "colab": {},
        "colab_type": "code",
        "id": "kxWupWuE2YCg"
      },
      "outputs": [],
      "source": [
        "from pyspark.sql.types import StringType, FloatType, StructType, StructField"
      ]
    },
    {
      "cell_type": "code",
      "execution_count": null,
      "metadata": {
        "colab": {},
        "colab_type": "code",
        "id": "SDT6v1jM3DGY"
      },
      "outputs": [],
      "source": [
        "data = map(lambda r: (r[0], r[1], float(r[2])),\n",
        "map(lambda x: x.split(\",\"),[\"Paris,Food,19.00\", \"Marseille,Clothing,12.00\",\n",
        "\"Paris,Food,8.00\", \"Paris,Clothing,15.00\",\n",
        "\"Marseille,Food,20.00\", \"Lyon,Book,10.00\"]))"
      ]
    },
    {
      "cell_type": "code",
      "execution_count": null,
      "metadata": {
        "colab": {},
        "colab_type": "code",
        "id": "KO_Vp0xS3OYJ"
      },
      "outputs": [],
      "source": [
        "schema = StructType([\n",
        "                     StructField(\"city\", StringType(), nullable=True),\n",
        "                     StructField(\"type\", StringType(), nullable=True),\n",
        "                     StructField(\"price\", FloatType(), nullable=True)\n",
        "])\n"
      ]
    },
    {
      "cell_type": "code",
      "execution_count": null,
      "metadata": {
        "colab": {},
        "colab_type": "code",
        "id": "ZPHi_wBb3vyT"
      },
      "outputs": [],
      "source": [
        "df = spark.createDataFrame(\n",
        "    data,\n",
        "    schema=schema\n",
        ")"
      ]
    },
    {
      "cell_type": "code",
      "execution_count": 34,
      "metadata": {
        "colab": {
          "base_uri": "https://localhost:8080/",
          "height": 208
        },
        "colab_type": "code",
        "id": "Px9sU28p33NM",
        "outputId": "7989caaf-992d-476d-9f1a-7078c1a00969"
      },
      "outputs": [
        {
          "name": "stdout",
          "output_type": "stream",
          "text": [
            "+---------+--------+-----+\n",
            "|     city|    type|price|\n",
            "+---------+--------+-----+\n",
            "|    Paris|    Food| 19.0|\n",
            "|Marseille|Clothing| 12.0|\n",
            "|    Paris|    Food|  8.0|\n",
            "|    Paris|Clothing| 15.0|\n",
            "|Marseille|    Food| 20.0|\n",
            "|     Lyon|    Book| 10.0|\n",
            "+---------+--------+-----+\n",
            "\n"
          ]
        }
      ],
      "source": [
        "df.show()"
      ]
    },
    {
      "cell_type": "markdown",
      "metadata": {
        "colab_type": "text",
        "id": "d4Leyj3QpX9S"
      },
      "source": [
        "# Part 4: \n",
        "* lets learn about Filter and other function in PySpark"
      ]
    },
    {
      "cell_type": "code",
      "execution_count": 35,
      "metadata": {
        "colab": {
          "base_uri": "https://localhost:8080/",
          "height": 156
        },
        "colab_type": "code",
        "id": "0TbzYwvIpdt5",
        "outputId": "f9a7459a-9109-41f3-d4dd-f81bffca221d"
      },
      "outputs": [
        {
          "name": "stdout",
          "output_type": "stream",
          "text": [
            "+-----+--------+-----+\n",
            "| city|    type|price|\n",
            "+-----+--------+-----+\n",
            "|Paris|    Food| 19.0|\n",
            "|Paris|    Food|  8.0|\n",
            "|Paris|Clothing| 15.0|\n",
            "+-----+--------+-----+\n",
            "\n"
          ]
        }
      ],
      "source": [
        "df.filter(df.city == \"Paris\").show()"
      ]
    },
    {
      "cell_type": "code",
      "execution_count": 36,
      "metadata": {
        "colab": {
          "base_uri": "https://localhost:8080/",
          "height": 139
        },
        "colab_type": "code",
        "id": "6WmnNh23q0hA",
        "outputId": "ab1d1587-a938-4e70-ad40-059f392b260a"
      },
      "outputs": [
        {
          "name": "stdout",
          "output_type": "stream",
          "text": [
            "+-----+----+-----+\n",
            "| city|type|price|\n",
            "+-----+----+-----+\n",
            "|Paris|Food| 19.0|\n",
            "|Paris|Food|  8.0|\n",
            "+-----+----+-----+\n",
            "\n"
          ]
        }
      ],
      "source": [
        "df.filter(df.type == \"Food\").filter(df.city == \"Paris\").show()"
      ]
    },
    {
      "cell_type": "code",
      "execution_count": 37,
      "metadata": {
        "colab": {
          "base_uri": "https://localhost:8080/",
          "height": 139
        },
        "colab_type": "code",
        "id": "AOrJQA6BqzuU",
        "outputId": "c6d192f7-cc1b-4751-842f-614b2121fbab"
      },
      "outputs": [
        {
          "name": "stdout",
          "output_type": "stream",
          "text": [
            "+-----+----+-----+\n",
            "| city|type|price|\n",
            "+-----+----+-----+\n",
            "|Paris|Food| 19.0|\n",
            "|Paris|Food|  8.0|\n",
            "+-----+----+-----+\n",
            "\n"
          ]
        }
      ],
      "source": [
        "df.filter(\n",
        "    (df.city == \"Paris\") & (df.type == \"Food\")\n",
        "\n",
        ").show()"
      ]
    },
    {
      "cell_type": "code",
      "execution_count": null,
      "metadata": {
        "colab": {},
        "colab_type": "code",
        "id": "4lXkg0TNq0A9"
      },
      "outputs": [],
      "source": []
    },
    {
      "cell_type": "markdown",
      "metadata": {
        "colab_type": "text",
        "id": "paWc8UK9ucOG"
      },
      "source": [
        "# Part 5:\n",
        "* lets learn about orderBy Statments "
      ]
    },
    {
      "cell_type": "code",
      "execution_count": 38,
      "metadata": {
        "colab": {
          "base_uri": "https://localhost:8080/",
          "height": 208
        },
        "colab_type": "code",
        "id": "63CQ0hiUqxBh",
        "outputId": "3a213eac-fe9c-4df7-e5de-9b172e21f5d9"
      },
      "outputs": [
        {
          "name": "stdout",
          "output_type": "stream",
          "text": [
            "+---------+--------+-----+\n",
            "|     city|    type|price|\n",
            "+---------+--------+-----+\n",
            "|    Paris|    Food| 19.0|\n",
            "|Marseille|Clothing| 12.0|\n",
            "|    Paris|    Food|  8.0|\n",
            "|    Paris|Clothing| 15.0|\n",
            "|Marseille|    Food| 20.0|\n",
            "|     Lyon|    Book| 10.0|\n",
            "+---------+--------+-----+\n",
            "\n"
          ]
        }
      ],
      "source": [
        "df.show()"
      ]
    },
    {
      "cell_type": "code",
      "execution_count": 39,
      "metadata": {
        "colab": {
          "base_uri": "https://localhost:8080/",
          "height": 208
        },
        "colab_type": "code",
        "id": "cgYujiqSuoCY",
        "outputId": "e4c6336d-a9f3-4985-988a-fbaad7c8d653"
      },
      "outputs": [
        {
          "name": "stdout",
          "output_type": "stream",
          "text": [
            "+---------+--------+-----+\n",
            "|     city|    type|price|\n",
            "+---------+--------+-----+\n",
            "|     Lyon|    Book| 10.0|\n",
            "|Marseille|Clothing| 12.0|\n",
            "|Marseille|    Food| 20.0|\n",
            "|    Paris|    Food| 19.0|\n",
            "|    Paris|Clothing| 15.0|\n",
            "|    Paris|    Food|  8.0|\n",
            "+---------+--------+-----+\n",
            "\n"
          ]
        }
      ],
      "source": [
        "df.orderBy(df.city).show()"
      ]
    },
    {
      "cell_type": "code",
      "execution_count": 40,
      "metadata": {
        "colab": {
          "base_uri": "https://localhost:8080/",
          "height": 208
        },
        "colab_type": "code",
        "id": "cf-Az5SbunIr",
        "outputId": "ebdf354f-a337-4f3d-e5f3-76d136497754"
      },
      "outputs": [
        {
          "name": "stdout",
          "output_type": "stream",
          "text": [
            "+---------+--------+-----+\n",
            "|     city|    type|price|\n",
            "+---------+--------+-----+\n",
            "|     Lyon|    Book| 10.0|\n",
            "|Marseille|Clothing| 12.0|\n",
            "|    Paris|Clothing| 15.0|\n",
            "|    Paris|    Food| 19.0|\n",
            "|Marseille|    Food| 20.0|\n",
            "|    Paris|    Food|  8.0|\n",
            "+---------+--------+-----+\n",
            "\n"
          ]
        }
      ],
      "source": [
        "df.orderBy(df.city).orderBy(df.type).show()"
      ]
    },
    {
      "cell_type": "markdown",
      "metadata": {
        "colab_type": "text",
        "id": "R6twMqT2v_Ts"
      },
      "source": [
        "# Part 6 Manipulating Columns with Py Spark "
      ]
    },
    {
      "cell_type": "code",
      "execution_count": 41,
      "metadata": {
        "colab": {
          "base_uri": "https://localhost:8080/",
          "height": 208
        },
        "colab_type": "code",
        "id": "7BNrKFzYwDe9",
        "outputId": "8fdc6770-a680-40fb-8b8d-e26c65656716"
      },
      "outputs": [
        {
          "name": "stdout",
          "output_type": "stream",
          "text": [
            "+---------+--------+-----+---+\n",
            "|     city|    type|price|six|\n",
            "+---------+--------+-----+---+\n",
            "|    Paris|    Food| 19.0|  6|\n",
            "|Marseille|Clothing| 12.0|  6|\n",
            "|    Paris|    Food|  8.0|  6|\n",
            "|    Paris|Clothing| 15.0|  6|\n",
            "|Marseille|    Food| 20.0|  6|\n",
            "|     Lyon|    Book| 10.0|  6|\n",
            "+---------+--------+-----+---+\n",
            "\n"
          ]
        }
      ],
      "source": [
        "from pyspark.sql.functions import lit,rand\n",
        "df = df.withColumn(\"six\", lit(6))\n",
        "df.show()"
      ]
    },
    {
      "cell_type": "code",
      "execution_count": 42,
      "metadata": {
        "colab": {
          "base_uri": "https://localhost:8080/",
          "height": 208
        },
        "colab_type": "code",
        "id": "KEwkX2-d3ICZ",
        "outputId": "86c50d6c-4c7f-4852-f87c-22c825c64e4d"
      },
      "outputs": [
        {
          "name": "stdout",
          "output_type": "stream",
          "text": [
            "+---------+--------+-----+---+------+\n",
            "|     city|    type|price|six|divide|\n",
            "+---------+--------+-----+---+------+\n",
            "|    Paris|    Food| 19.0|  6|   9.5|\n",
            "|Marseille|Clothing| 12.0|  6|   6.0|\n",
            "|    Paris|    Food|  8.0|  6|   4.0|\n",
            "|    Paris|Clothing| 15.0|  6|   7.5|\n",
            "|Marseille|    Food| 20.0|  6|  10.0|\n",
            "|     Lyon|    Book| 10.0|  6|   5.0|\n",
            "+---------+--------+-----+---+------+\n",
            "\n"
          ]
        }
      ],
      "source": [
        "df.withColumn(\"divide\", df.price / 2 ).show()"
      ]
    },
    {
      "cell_type": "code",
      "execution_count": 43,
      "metadata": {
        "colab": {
          "base_uri": "https://localhost:8080/",
          "height": 208
        },
        "colab_type": "code",
        "id": "KlMwPZX534Av",
        "outputId": "b735bbb2-d8c1-4f52-cabf-f012a49ae382"
      },
      "outputs": [
        {
          "name": "stdout",
          "output_type": "stream",
          "text": [
            "+---------+--------+-----+---+---+\n",
            "|     city|    type|price|six|sum|\n",
            "+---------+--------+-----+---+---+\n",
            "|    Paris|    Food| 19.0|  6| 12|\n",
            "|Marseille|Clothing| 12.0|  6| 12|\n",
            "|    Paris|    Food|  8.0|  6| 12|\n",
            "|    Paris|Clothing| 15.0|  6| 12|\n",
            "|Marseille|    Food| 20.0|  6| 12|\n",
            "|     Lyon|    Book| 10.0|  6| 12|\n",
            "+---------+--------+-----+---+---+\n",
            "\n"
          ]
        }
      ],
      "source": [
        "df.withColumn(\"sum\", df.six + df.six).show()"
      ]
    },
    {
      "cell_type": "code",
      "execution_count": 44,
      "metadata": {
        "colab": {
          "base_uri": "https://localhost:8080/",
          "height": 208
        },
        "colab_type": "code",
        "id": "NFwwfKysz_8_",
        "outputId": "ff42bb5d-af8d-4e5c-8b8f-383666f6c7d4"
      },
      "outputs": [
        {
          "name": "stdout",
          "output_type": "stream",
          "text": [
            "+---------+--------+-----+\n",
            "|     city|    type|price|\n",
            "+---------+--------+-----+\n",
            "|    Paris|    Food| 19.0|\n",
            "|Marseille|Clothing| 12.0|\n",
            "|    Paris|    Food|  8.0|\n",
            "|    Paris|Clothing| 15.0|\n",
            "|Marseille|    Food| 20.0|\n",
            "|     Lyon|    Book| 10.0|\n",
            "+---------+--------+-----+\n",
            "\n"
          ]
        }
      ],
      "source": [
        "df.drop(\"six\").show()"
      ]
    },
    {
      "cell_type": "code",
      "execution_count": null,
      "metadata": {
        "colab": {},
        "colab_type": "code",
        "id": "VzqOY5zHjV9f"
      },
      "outputs": [],
      "source": []
    },
    {
      "cell_type": "markdown",
      "metadata": {
        "colab_type": "text",
        "id": "T2Ih7W9VjZTj"
      },
      "source": [
        "# Part 7:\n",
        "* Advanced Manipulations\n"
      ]
    },
    {
      "cell_type": "code",
      "execution_count": 71,
      "metadata": {
        "colab": {
          "base_uri": "https://localhost:8080/",
          "height": 347
        },
        "colab_type": "code",
        "id": "lmwczfxNjYbw",
        "outputId": "b0b3e5de-9066-4149-b7b9-122345e90f11"
      },
      "outputs": [
        {
          "name": "stdout",
          "output_type": "stream",
          "text": [
            "+---------+--------+-----+\n",
            "|     city|    type|price|\n",
            "+---------+--------+-----+\n",
            "|    Paris|    Food| 19.0|\n",
            "|Marseille|Clothing| 12.0|\n",
            "|    Paris|    Food|  8.0|\n",
            "|    Paris|Clothing| 15.0|\n",
            "|Marseille|    Food| 20.0|\n",
            "|     Lyon|    Book| 10.0|\n",
            "+---------+--------+-----+\n",
            "\n",
            "+---------+----------+\n",
            "|     city|sum(price)|\n",
            "+---------+----------+\n",
            "|Marseille|      32.0|\n",
            "|    Paris|      42.0|\n",
            "|     Lyon|      10.0|\n",
            "+---------+----------+\n",
            "\n"
          ]
        }
      ],
      "source": [
        "header = [\"city\", \"type\", \"price\"]\n",
        "\n",
        "data = map(lambda r: (r[0], r[1], float(r[2])),\n",
        "           map(lambda x: x.split(\",\"),\n",
        "               [\"Paris,Food,19.00\", \"Marseille,Clothing,12.00\",\n",
        "                \"Paris,Food,8.00\", \"Paris,Clothing,15.00\",\n",
        "                \"Marseille,Food,20.00\", \"Lyon,Book,10.00\"]))\n",
        "\n",
        "df = spark.createDataFrame(data, header)\n",
        "df.show()\n",
        "\n",
        "from pyspark.sql import Row\n",
        "from pyspark.sql.functions import sum as _sum\n",
        "df.groupBy(\"city\").agg(_sum(\"price\")).show()"
      ]
    },
    {
      "cell_type": "code",
      "execution_count": null,
      "metadata": {
        "colab": {},
        "colab_type": "code",
        "id": "tBRqAyqGmWxx"
      },
      "outputs": [],
      "source": []
    },
    {
      "cell_type": "markdown",
      "metadata": {
        "colab_type": "text",
        "id": "ipt2CrO5nHHw"
      },
      "source": [
        "# Part 8:\n",
        "* Custom Function"
      ]
    },
    {
      "cell_type": "code",
      "execution_count": 72,
      "metadata": {
        "colab": {
          "base_uri": "https://localhost:8080/",
          "height": 173
        },
        "colab_type": "code",
        "id": "WezgOSTAnK3O",
        "outputId": "43fb005b-d4d5-4331-8c13-d7e21543b9ea"
      },
      "outputs": [
        {
          "name": "stdout",
          "output_type": "stream",
          "text": [
            "+---+---+\n",
            "| x1| x2|\n",
            "+---+---+\n",
            "|  1|  2|\n",
            "|  2|  3|\n",
            "|  3|  4|\n",
            "|  4|  5|\n",
            "+---+---+\n",
            "\n"
          ]
        }
      ],
      "source": [
        "df = spark.createDataFrame([[1, 2], [2, 3], [3, 4], [4, 5]], [\"x1\", \"x2\"]).show()"
      ]
    },
    {
      "cell_type": "code",
      "execution_count": null,
      "metadata": {
        "colab": {},
        "colab_type": "code",
        "id": "yi9vKYy3nZ3-"
      },
      "outputs": [],
      "source": []
    },
    {
      "cell_type": "code",
      "execution_count": 97,
      "metadata": {
        "colab": {
          "base_uri": "https://localhost:8080/",
          "height": 121
        },
        "colab_type": "code",
        "id": "YpAefOFcnZbw",
        "outputId": "8dec73b4-76c1-41b1-9a97-553a6c7cdcb0"
      },
      "outputs": [
        {
          "name": "stdout",
          "output_type": "stream",
          "text": [
            "+-----+---+\n",
            "|   _1| _2|\n",
            "+-----+---+\n",
            "|Alice|  1|\n",
            "+-----+---+\n",
            "\n"
          ]
        }
      ],
      "source": [
        "\n",
        "from pyspark.sql.functions import udf\n",
        "from pyspark.sql.types import *\n",
        "\n",
        "l = [('Alice', 1)]\n",
        "df = spark.createDataFrame(l)\n",
        "df.show()\n"
      ]
    },
    {
      "cell_type": "code",
      "execution_count": null,
      "metadata": {
        "colab": {},
        "colab_type": "code",
        "id": "DrwwZH8Hp1E_"
      },
      "outputs": [],
      "source": []
    }
  ],
  "metadata": {
    "colab": {
      "collapsed_sections": [],
      "name": "Copy of Untitled1.ipynb",
      "provenance": []
    },
    "kernelspec": {
      "display_name": "Python 3",
      "name": "python3"
    }
  },
  "nbformat": 4,
  "nbformat_minor": 0
}
